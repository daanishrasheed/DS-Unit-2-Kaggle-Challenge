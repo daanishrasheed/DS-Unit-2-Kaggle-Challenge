{
  "nbformat": 4,
  "nbformat_minor": 0,
  "metadata": {
    "colab": {
      "name": "LS_DS_221_assignment.ipynb",
      "provenance": [],
      "collapsed_sections": [],
      "include_colab_link": true
    },
    "kernelspec": {
      "display_name": "Python 3",
      "language": "python",
      "name": "python3"
    },
    "language_info": {
      "codemirror_mode": {
        "name": "ipython",
        "version": 3
      },
      "file_extension": ".py",
      "mimetype": "text/x-python",
      "name": "python",
      "nbconvert_exporter": "python",
      "pygments_lexer": "ipython3",
      "version": "3.7.3"
    }
  },
  "cells": [
    {
      "cell_type": "markdown",
      "metadata": {
        "id": "view-in-github",
        "colab_type": "text"
      },
      "source": [
        "<a href=\"https://colab.research.google.com/github/daanishrasheed/DS-Unit-2-Kaggle-Challenge/blob/master/module1/LS_DS_221_assignment.ipynb\" target=\"_parent\"><img src=\"https://colab.research.google.com/assets/colab-badge.svg\" alt=\"Open In Colab\"/></a>"
      ]
    },
    {
      "cell_type": "markdown",
      "metadata": {
        "id": "BY9b1gjOGT4S",
        "colab_type": "text"
      },
      "source": [
        "Lambda School Data Science\n",
        "\n",
        "*Unit 2, Sprint 2, Module 1*\n",
        "\n",
        "---"
      ]
    },
    {
      "cell_type": "markdown",
      "metadata": {
        "colab_type": "text",
        "id": "7IXUfiQ2UKj6"
      },
      "source": [
        "# Decision Trees\n",
        "\n",
        "## Assignment\n",
        "- [ ] [Sign up for a Kaggle account](https://www.kaggle.com/), if you don’t already have one. Go to our Kaggle InClass competition website. You will be given the URL in Slack. Go to the Rules page. Accept the rules of the competition.\n",
        "- [ ] Do train/validate/test split with the Tanzania Waterpumps data.\n",
        "- [ ] Begin with baselines for classification.\n",
        "- [ ] Select features. Use a scikit-learn pipeline to encode categoricals, impute missing values, and fit a decision tree classifier.\n",
        "- [ ] Get your validation accuracy score.\n",
        "- [ ] Get and plot your feature importances.\n",
        "- [ ] Submit your predictions to our Kaggle competition. (Go to our Kaggle InClass competition webpage. Use the blue **Submit Predictions** button to upload your CSV file. Or you can use the Kaggle API to submit your predictions.)\n",
        "- [ ] Commit your notebook to your fork of the GitHub repo.\n",
        "\n",
        "\n",
        "## Stretch Goals\n",
        "\n",
        "### Reading\n",
        "\n",
        "- A Visual Introduction to Machine Learning\n",
        "  - [Part 1: A Decision Tree](http://www.r2d3.us/visual-intro-to-machine-learning-part-1/)\n",
        "  - [Part 2: Bias and Variance](http://www.r2d3.us/visual-intro-to-machine-learning-part-2/)\n",
        "- [Decision Trees: Advantages & Disadvantages](https://christophm.github.io/interpretable-ml-book/tree.html#advantages-2)\n",
        "- [How a Russian mathematician constructed a decision tree — by hand — to solve a medical problem](http://fastml.com/how-a-russian-mathematician-constructed-a-decision-tree-by-hand-to-solve-a-medical-problem/)\n",
        "- [How decision trees work](https://brohrer.github.io/how_decision_trees_work.html)\n",
        "- [Let’s Write a Decision Tree Classifier from Scratch](https://www.youtube.com/watch?v=LDRbO9a6XPU) — _Don’t worry about understanding the code, just get introduced to the concepts. This 10 minute video has excellent diagrams and explanations._\n",
        "- [Random Forests for Complete Beginners: The definitive guide to Random Forests and Decision Trees](https://victorzhou.com/blog/intro-to-random-forests/)\n",
        "\n",
        "\n",
        "### Doing\n",
        "- [ ] Add your own stretch goal(s) !\n",
        "- [ ] Define a function to wrangle train, validate, and test sets in the same way. Clean outliers and engineer features. (For example, [what columns have zeros and shouldn't?](https://github.com/Quartz/bad-data-guide#zeros-replace-missing-values) What columns are duplicates, or nearly duplicates? Can you extract the year from date_recorded? Can you engineer new features, such as the number of years from waterpump construction to waterpump inspection?)\n",
        "- [ ] Try other [scikit-learn imputers](https://scikit-learn.org/stable/modules/impute.html).\n",
        "- [ ] Make exploratory visualizations and share on Slack.\n",
        "\n",
        "\n",
        "#### Exploratory visualizations\n",
        "\n",
        "Visualize the relationships between feature(s) and target. I recommend you do this with your training set, after splitting your data. \n",
        "\n",
        "For this problem, you may want to create a new column to represent the target as a number, 0 or 1. For example:\n",
        "\n",
        "```python\n",
        "train['functional'] = (train['status_group']=='functional').astype(int)\n",
        "```\n",
        "\n",
        "\n",
        "\n",
        "You can try [Seaborn \"Categorical estimate\" plots](https://seaborn.pydata.org/tutorial/categorical.html) for features with reasonably few unique values. (With too many unique values, the plot is unreadable.)\n",
        "\n",
        "- Categorical features. (If there are too many unique values, you can replace less frequent values with \"OTHER.\")\n",
        "- Numeric features. (If there are too many unique values, you can [bin with pandas cut / qcut functions](https://pandas.pydata.org/pandas-docs/stable/getting_started/basics.html?highlight=qcut#discretization-and-quantiling).)\n",
        "\n",
        "You can try [Seaborn linear model plots](https://seaborn.pydata.org/tutorial/regression.html) with numeric features. For this classification problem, you may want to use the parameter `logistic=True`, but it can be slow.\n",
        "\n",
        "You do _not_ need to use Seaborn, but it's nice because it includes confidence intervals to visualize uncertainty.\n",
        "\n",
        "#### High-cardinality categoricals\n",
        "\n",
        "This code from a previous assignment demonstrates how to replace less frequent values with 'OTHER'\n",
        "\n",
        "```python\n",
        "# Reduce cardinality for NEIGHBORHOOD feature ...\n",
        "\n",
        "# Get a list of the top 10 neighborhoods\n",
        "top10 = train['NEIGHBORHOOD'].value_counts()[:10].index\n",
        "\n",
        "# At locations where the neighborhood is NOT in the top 10,\n",
        "# replace the neighborhood with 'OTHER'\n",
        "train.loc[~train['NEIGHBORHOOD'].isin(top10), 'NEIGHBORHOOD'] = 'OTHER'\n",
        "test.loc[~test['NEIGHBORHOOD'].isin(top10), 'NEIGHBORHOOD'] = 'OTHER'\n",
        "```\n"
      ]
    },
    {
      "cell_type": "code",
      "metadata": {
        "colab_type": "code",
        "id": "o9eSnDYhUGD7",
        "colab": {
          "base_uri": "https://localhost:8080/",
          "height": 297
        },
        "outputId": "c2ac8a4f-98ef-4eb9-d8de-f8a06676113f"
      },
      "source": [
        "import sys\n",
        "\n",
        "# If you're on Colab:\n",
        "if 'google.colab' in sys.modules:\n",
        "    DATA_PATH = 'https://raw.githubusercontent.com/LambdaSchool/DS-Unit-2-Kaggle-Challenge/master/data/'\n",
        "    !pip install category_encoders==2.*\n",
        "\n",
        "# If you're working locally:\n",
        "else:\n",
        "    DATA_PATH = '../data/'"
      ],
      "execution_count": 1,
      "outputs": [
        {
          "output_type": "stream",
          "text": [
            "Collecting category_encoders==2.*\n",
            "\u001b[?25l  Downloading https://files.pythonhosted.org/packages/a0/52/c54191ad3782de633ea3d6ee3bb2837bda0cf3bc97644bb6375cf14150a0/category_encoders-2.1.0-py2.py3-none-any.whl (100kB)\n",
            "\r\u001b[K     |███▎                            | 10kB 15.4MB/s eta 0:00:01\r\u001b[K     |██████▌                         | 20kB 1.8MB/s eta 0:00:01\r\u001b[K     |█████████▉                      | 30kB 2.7MB/s eta 0:00:01\r\u001b[K     |█████████████                   | 40kB 1.7MB/s eta 0:00:01\r\u001b[K     |████████████████▍               | 51kB 2.1MB/s eta 0:00:01\r\u001b[K     |███████████████████▋            | 61kB 2.5MB/s eta 0:00:01\r\u001b[K     |██████████████████████▉         | 71kB 2.9MB/s eta 0:00:01\r\u001b[K     |██████████████████████████▏     | 81kB 3.3MB/s eta 0:00:01\r\u001b[K     |█████████████████████████████▍  | 92kB 2.6MB/s eta 0:00:01\r\u001b[K     |████████████████████████████████| 102kB 2.3MB/s \n",
            "\u001b[?25hRequirement already satisfied: numpy>=1.11.3 in /usr/local/lib/python3.6/dist-packages (from category_encoders==2.*) (1.17.3)\n",
            "Requirement already satisfied: statsmodels>=0.6.1 in /usr/local/lib/python3.6/dist-packages (from category_encoders==2.*) (0.10.1)\n",
            "Requirement already satisfied: scikit-learn>=0.20.0 in /usr/local/lib/python3.6/dist-packages (from category_encoders==2.*) (0.21.3)\n",
            "Requirement already satisfied: pandas>=0.21.1 in /usr/local/lib/python3.6/dist-packages (from category_encoders==2.*) (0.25.2)\n",
            "Requirement already satisfied: patsy>=0.4.1 in /usr/local/lib/python3.6/dist-packages (from category_encoders==2.*) (0.5.1)\n",
            "Requirement already satisfied: scipy>=0.19.0 in /usr/local/lib/python3.6/dist-packages (from category_encoders==2.*) (1.3.1)\n",
            "Requirement already satisfied: joblib>=0.11 in /usr/local/lib/python3.6/dist-packages (from scikit-learn>=0.20.0->category_encoders==2.*) (0.14.0)\n",
            "Requirement already satisfied: python-dateutil>=2.6.1 in /usr/local/lib/python3.6/dist-packages (from pandas>=0.21.1->category_encoders==2.*) (2.6.1)\n",
            "Requirement already satisfied: pytz>=2017.2 in /usr/local/lib/python3.6/dist-packages (from pandas>=0.21.1->category_encoders==2.*) (2018.9)\n",
            "Requirement already satisfied: six in /usr/local/lib/python3.6/dist-packages (from patsy>=0.4.1->category_encoders==2.*) (1.12.0)\n",
            "Installing collected packages: category-encoders\n",
            "Successfully installed category-encoders-2.1.0\n"
          ],
          "name": "stdout"
        }
      ]
    },
    {
      "cell_type": "code",
      "metadata": {
        "colab_type": "code",
        "id": "QJBD4ruICm1m",
        "colab": {
          "base_uri": "https://localhost:8080/",
          "height": 35
        },
        "outputId": "18f0f548-ed87-4314-b44c-2760ed69fe5a"
      },
      "source": [
        "import pandas as pd\n",
        "from sklearn.model_selection import train_test_split\n",
        "\n",
        "train = pd.merge(pd.read_csv(DATA_PATH+'waterpumps/train_features.csv'), \n",
        "                 pd.read_csv(DATA_PATH+'waterpumps/train_labels.csv'))\n",
        "test = pd.read_csv(DATA_PATH+'waterpumps/test_features.csv')\n",
        "\n",
        "# Split train into train & val\n",
        "train, val = train_test_split(train, train_size=0.80, test_size=0.20, \n",
        "                              stratify=train['status_group'], random_state=42)\n",
        "\n",
        "train.shape, test.shape"
      ],
      "execution_count": 2,
      "outputs": [
        {
          "output_type": "execute_result",
          "data": {
            "text/plain": [
              "((47520, 41), (14358, 40))"
            ]
          },
          "metadata": {
            "tags": []
          },
          "execution_count": 2
        }
      ]
    },
    {
      "cell_type": "code",
      "metadata": {
        "colab_type": "code",
        "id": "2Amxyx3xphbb",
        "colab": {
          "base_uri": "https://localhost:8080/",
          "height": 35
        },
        "outputId": "db122f2b-5396-41da-a82a-3a8ef2199108"
      },
      "source": [
        "import numpy as np\n",
        "\n",
        "def wrangle(X):\n",
        "    \"\"\"Wrangle train, validate, and test sets in the same way\"\"\"\n",
        "    \n",
        "    # Prevent SettingWithCopyWarning\n",
        "    X = X.copy()\n",
        "    \n",
        "    # About 3% of the time, latitude has small values near zero,\n",
        "    # outside Tanzania, so we'll treat these values like zero.\n",
        "    X['latitude'] = X['latitude'].replace(-2e-08, 0)\n",
        "    \n",
        "    # When columns have zeros and shouldn't, they are like null values.\n",
        "    # So we will replace the zeros with nulls, and impute missing values later.\n",
        "    cols_with_zeros = ['longitude', 'latitude']\n",
        "    for col in cols_with_zeros:\n",
        "        X[col] = X[col].replace(0, np.nan)\n",
        "            \n",
        "    # quantity & quantity_group are duplicates, so drop one\n",
        "    X = X.drop(columns='quantity_group')\n",
        "    \n",
        "    # return the wrangled dataframe\n",
        "    return X\n",
        "\n",
        "\n",
        "train = wrangle(train)\n",
        "val = wrangle(val)\n",
        "test = wrangle(test)\n",
        "train.shape, val.shape, test.shape"
      ],
      "execution_count": 3,
      "outputs": [
        {
          "output_type": "execute_result",
          "data": {
            "text/plain": [
              "((47520, 40), (11880, 40), (14358, 39))"
            ]
          },
          "metadata": {
            "tags": []
          },
          "execution_count": 3
        }
      ]
    },
    {
      "cell_type": "code",
      "metadata": {
        "id": "RMKPzoj8LZUu",
        "colab_type": "code",
        "colab": {
          "base_uri": "https://localhost:8080/",
          "height": 55
        },
        "outputId": "52027d42-6f7b-4332-a0c1-4ab09151c875"
      },
      "source": [
        "target = 'status_group'\n",
        "train_features = train.drop(columns = [target, 'id'])\n",
        "num = train_features.select_dtypes(include='number').columns.tolist()\n",
        "cardinality = train_features.select_dtypes(exclude = 'number').nunique()\n",
        "cat = cardinality[cardinality<=50].index.tolist()\n",
        "features = num+cat\n",
        "print(features)"
      ],
      "execution_count": 4,
      "outputs": [
        {
          "output_type": "stream",
          "text": [
            "['amount_tsh', 'gps_height', 'longitude', 'latitude', 'num_private', 'region_code', 'district_code', 'population', 'construction_year', 'basin', 'region', 'public_meeting', 'recorded_by', 'scheme_management', 'permit', 'extraction_type', 'extraction_type_group', 'extraction_type_class', 'management', 'management_group', 'payment', 'payment_type', 'water_quality', 'quality_group', 'quantity', 'source', 'source_type', 'source_class', 'waterpoint_type', 'waterpoint_type_group']\n"
          ],
          "name": "stdout"
        }
      ]
    },
    {
      "cell_type": "code",
      "metadata": {
        "id": "Ur29fax9x8SG",
        "colab_type": "code",
        "colab": {}
      },
      "source": [
        "X_train = train[features]\n",
        "y_train = train[target]\n",
        "X_val = val[features]\n",
        "y_val = val[target]\n",
        "X_test = test[features]"
      ],
      "execution_count": 0,
      "outputs": []
    },
    {
      "cell_type": "code",
      "metadata": {
        "id": "DRf0Bb-hx9mA",
        "colab_type": "code",
        "colab": {
          "base_uri": "https://localhost:8080/",
          "height": 35
        },
        "outputId": "51baf085-3e2c-4967-f4ba-35cb7cd43e9d"
      },
      "source": [
        "import category_encoders as ce\n",
        "from sklearn.impute import SimpleImputer\n",
        "from sklearn.tree import DecisionTreeClassifier\n",
        "from sklearn.pipeline import make_pipeline\n",
        "\n",
        "pipeline = make_pipeline(\n",
        "    ce.OneHotEncoder(use_cat_names=True), \n",
        "    SimpleImputer(strategy='mean'), \n",
        "    DecisionTreeClassifier(random_state=42)\n",
        ")\n",
        "\n",
        "pipeline.fit(X_train, y_train)\n",
        "print('Validation Accuracy', pipeline.score(X_val, y_val))\n",
        "y_pred = pipeline.predict(X_test)"
      ],
      "execution_count": 6,
      "outputs": [
        {
          "output_type": "stream",
          "text": [
            "Validation Accuracy 0.7594276094276095\n"
          ],
          "name": "stdout"
        }
      ]
    },
    {
      "cell_type": "code",
      "metadata": {
        "id": "D4fYOWJC5Sfm",
        "colab_type": "code",
        "colab": {
          "base_uri": "https://localhost:8080/",
          "height": 655
        },
        "outputId": "ec8a8aaf-b827-47c5-ed00-e975e249e9a6"
      },
      "source": [
        "import graphviz\n",
        "from sklearn.tree import export_graphviz\n",
        "\n",
        "model = pipeline.named_steps['decisiontreeclassifier']\n",
        "encoder = pipeline.named_steps['onehotencoder']\n",
        "encoded_columns = encoder.transform(X_val).columns\n",
        "\n",
        "dot_data = export_graphviz(model, \n",
        "                           out_file=None, \n",
        "                           max_depth=3, \n",
        "                           feature_names=encoded_columns,\n",
        "                           class_names=model.classes_, \n",
        "                           impurity=False, \n",
        "                           filled=True, \n",
        "                           proportion=True, \n",
        "                           rounded=True)   \n",
        "display(graphviz.Source(dot_data))"
      ],
      "execution_count": 7,
      "outputs": [
        {
          "output_type": "display_data",
          "data": {
            "text/plain": [
              "<graphviz.files.Source at 0x7f76c6e56748>"
            ],
            "image/svg+xml": "<?xml version=\"1.0\" encoding=\"UTF-8\" standalone=\"no\"?>\n<!DOCTYPE svg PUBLIC \"-//W3C//DTD SVG 1.1//EN\"\n \"http://www.w3.org/Graphics/SVG/1.1/DTD/svg11.dtd\">\n<!-- Generated by graphviz version 2.40.1 (20161225.0304)\n -->\n<!-- Title: Tree Pages: 1 -->\n<svg width=\"2146pt\" height=\"460pt\"\n viewBox=\"0.00 0.00 2146.00 460.00\" xmlns=\"http://www.w3.org/2000/svg\" xmlns:xlink=\"http://www.w3.org/1999/xlink\">\n<g id=\"graph0\" class=\"graph\" transform=\"scale(1 1) rotate(0) translate(4 456)\">\n<title>Tree</title>\n<polygon fill=\"#ffffff\" stroke=\"transparent\" points=\"-4,4 -4,-456 2142,-456 2142,4 -4,4\"/>\n<!-- 0 -->\n<g id=\"node1\" class=\"node\">\n<title>0</title>\n<path fill=\"#f8decc\" stroke=\"#000000\" d=\"M1291,-452C1291,-452 1115,-452 1115,-452 1109,-452 1103,-446 1103,-440 1103,-440 1103,-396 1103,-396 1103,-390 1109,-384 1115,-384 1115,-384 1291,-384 1291,-384 1297,-384 1303,-390 1303,-396 1303,-396 1303,-440 1303,-440 1303,-446 1297,-452 1291,-452\"/>\n<text text-anchor=\"middle\" x=\"1203\" y=\"-436.8\" font-family=\"Helvetica,sans-Serif\" font-size=\"14.00\" fill=\"#000000\">quantity_dry &lt;= 0.5</text>\n<text text-anchor=\"middle\" x=\"1203\" y=\"-421.8\" font-family=\"Helvetica,sans-Serif\" font-size=\"14.00\" fill=\"#000000\">samples = 100.0%</text>\n<text text-anchor=\"middle\" x=\"1203\" y=\"-406.8\" font-family=\"Helvetica,sans-Serif\" font-size=\"14.00\" fill=\"#000000\">value = [0.543, 0.073, 0.384]</text>\n<text text-anchor=\"middle\" x=\"1203\" y=\"-391.8\" font-family=\"Helvetica,sans-Serif\" font-size=\"14.00\" fill=\"#000000\">class = functional</text>\n</g>\n<!-- 1 -->\n<g id=\"node2\" class=\"node\">\n<title>1</title>\n<path fill=\"#f4caac\" stroke=\"#000000\" d=\"M1055.5,-348C1055.5,-348 874.5,-348 874.5,-348 868.5,-348 862.5,-342 862.5,-336 862.5,-336 862.5,-292 862.5,-292 862.5,-286 868.5,-280 874.5,-280 874.5,-280 1055.5,-280 1055.5,-280 1061.5,-280 1067.5,-286 1067.5,-292 1067.5,-292 1067.5,-336 1067.5,-336 1067.5,-342 1061.5,-348 1055.5,-348\"/>\n<text text-anchor=\"middle\" x=\"965\" y=\"-332.8\" font-family=\"Helvetica,sans-Serif\" font-size=\"14.00\" fill=\"#000000\">waterpoint_type_other &lt;= 0.5</text>\n<text text-anchor=\"middle\" x=\"965\" y=\"-317.8\" font-family=\"Helvetica,sans-Serif\" font-size=\"14.00\" fill=\"#000000\">samples = 89.6%</text>\n<text text-anchor=\"middle\" x=\"965\" y=\"-302.8\" font-family=\"Helvetica,sans-Serif\" font-size=\"14.00\" fill=\"#000000\">value = [0.603, 0.08, 0.317]</text>\n<text text-anchor=\"middle\" x=\"965\" y=\"-287.8\" font-family=\"Helvetica,sans-Serif\" font-size=\"14.00\" fill=\"#000000\">class = functional</text>\n</g>\n<!-- 0&#45;&gt;1 -->\n<g id=\"edge1\" class=\"edge\">\n<title>0&#45;&gt;1</title>\n<path fill=\"none\" stroke=\"#000000\" d=\"M1125.0699,-383.9465C1101.8518,-373.8008 1076.2561,-362.6161 1052.4714,-352.2228\"/>\n<polygon fill=\"#000000\" stroke=\"#000000\" points=\"1053.67,-348.927 1043.1052,-348.13 1050.8671,-355.3414 1053.67,-348.927\"/>\n<text text-anchor=\"middle\" x=\"1052.2254\" y=\"-367.707\" font-family=\"Helvetica,sans-Serif\" font-size=\"14.00\" fill=\"#000000\">True</text>\n</g>\n<!-- 18118 -->\n<g id=\"node17\" class=\"node\">\n<title>18118</title>\n<path fill=\"#8540e6\" stroke=\"#000000\" d=\"M1536,-348C1536,-348 1360,-348 1360,-348 1354,-348 1348,-342 1348,-336 1348,-336 1348,-292 1348,-292 1348,-286 1354,-280 1360,-280 1360,-280 1536,-280 1536,-280 1542,-280 1548,-286 1548,-292 1548,-292 1548,-336 1548,-336 1548,-342 1542,-348 1536,-348\"/>\n<text text-anchor=\"middle\" x=\"1448\" y=\"-332.8\" font-family=\"Helvetica,sans-Serif\" font-size=\"14.00\" fill=\"#000000\">region_Mwanza &lt;= 0.5</text>\n<text text-anchor=\"middle\" x=\"1448\" y=\"-317.8\" font-family=\"Helvetica,sans-Serif\" font-size=\"14.00\" fill=\"#000000\">samples = 10.4%</text>\n<text text-anchor=\"middle\" x=\"1448\" y=\"-302.8\" font-family=\"Helvetica,sans-Serif\" font-size=\"14.00\" fill=\"#000000\">value = [0.026, 0.006, 0.968]</text>\n<text text-anchor=\"middle\" x=\"1448\" y=\"-287.8\" font-family=\"Helvetica,sans-Serif\" font-size=\"14.00\" fill=\"#000000\">class = non functional</text>\n</g>\n<!-- 0&#45;&gt;18118 -->\n<g id=\"edge16\" class=\"edge\">\n<title>0&#45;&gt;18118</title>\n<path fill=\"none\" stroke=\"#000000\" d=\"M1283.2222,-383.9465C1307.229,-373.7559 1333.7049,-362.5171 1358.2808,-352.0849\"/>\n<polygon fill=\"#000000\" stroke=\"#000000\" points=\"1359.7602,-355.2592 1367.5976,-348.13 1357.025,-348.8157 1359.7602,-355.2592\"/>\n<text text-anchor=\"middle\" x=\"1358.2327\" y=\"-367.6097\" font-family=\"Helvetica,sans-Serif\" font-size=\"14.00\" fill=\"#000000\">False</text>\n</g>\n<!-- 2 -->\n<g id=\"node3\" class=\"node\">\n<title>2</title>\n<path fill=\"#f1bd98\" stroke=\"#000000\" d=\"M646,-244C646,-244 470,-244 470,-244 464,-244 458,-238 458,-232 458,-232 458,-188 458,-188 458,-182 464,-176 470,-176 470,-176 646,-176 646,-176 652,-176 658,-182 658,-188 658,-188 658,-232 658,-232 658,-238 652,-244 646,-244\"/>\n<text text-anchor=\"middle\" x=\"558\" y=\"-228.8\" font-family=\"Helvetica,sans-Serif\" font-size=\"14.00\" fill=\"#000000\">amount_tsh &lt;= 1.5</text>\n<text text-anchor=\"middle\" x=\"558\" y=\"-213.8\" font-family=\"Helvetica,sans-Serif\" font-size=\"14.00\" fill=\"#000000\">samples = 81.1%</text>\n<text text-anchor=\"middle\" x=\"558\" y=\"-198.8\" font-family=\"Helvetica,sans-Serif\" font-size=\"14.00\" fill=\"#000000\">value = [0.649, 0.083, 0.268]</text>\n<text text-anchor=\"middle\" x=\"558\" y=\"-183.8\" font-family=\"Helvetica,sans-Serif\" font-size=\"14.00\" fill=\"#000000\">class = functional</text>\n</g>\n<!-- 1&#45;&gt;2 -->\n<g id=\"edge2\" class=\"edge\">\n<title>1&#45;&gt;2</title>\n<path fill=\"none\" stroke=\"#000000\" d=\"M862.2967,-287.7564C803.0714,-272.6227 728.6075,-253.595 668.1659,-238.1505\"/>\n<polygon fill=\"#000000\" stroke=\"#000000\" points=\"668.7622,-234.6905 658.207,-235.6057 667.0291,-241.4726 668.7622,-234.6905\"/>\n</g>\n<!-- 16953 -->\n<g id=\"node10\" class=\"node\">\n<title>16953</title>\n<path fill=\"#a26dec\" stroke=\"#000000\" d=\"M1074.5,-244C1074.5,-244 855.5,-244 855.5,-244 849.5,-244 843.5,-238 843.5,-232 843.5,-232 843.5,-188 843.5,-188 843.5,-182 849.5,-176 855.5,-176 855.5,-176 1074.5,-176 1074.5,-176 1080.5,-176 1086.5,-182 1086.5,-188 1086.5,-188 1086.5,-232 1086.5,-232 1086.5,-238 1080.5,-244 1074.5,-244\"/>\n<text text-anchor=\"middle\" x=\"965\" y=\"-228.8\" font-family=\"Helvetica,sans-Serif\" font-size=\"14.00\" fill=\"#000000\">extraction_type_class_other &lt;= 0.5</text>\n<text text-anchor=\"middle\" x=\"965\" y=\"-213.8\" font-family=\"Helvetica,sans-Serif\" font-size=\"14.00\" fill=\"#000000\">samples = 8.5%</text>\n<text text-anchor=\"middle\" x=\"965\" y=\"-198.8\" font-family=\"Helvetica,sans-Serif\" font-size=\"14.00\" fill=\"#000000\">value = [0.162, 0.057, 0.781]</text>\n<text text-anchor=\"middle\" x=\"965\" y=\"-183.8\" font-family=\"Helvetica,sans-Serif\" font-size=\"14.00\" fill=\"#000000\">class = non functional</text>\n</g>\n<!-- 1&#45;&gt;16953 -->\n<g id=\"edge9\" class=\"edge\">\n<title>1&#45;&gt;16953</title>\n<path fill=\"none\" stroke=\"#000000\" d=\"M965,-279.9465C965,-271.776 965,-262.9318 965,-254.3697\"/>\n<polygon fill=\"#000000\" stroke=\"#000000\" points=\"968.5001,-254.13 965,-244.13 961.5001,-254.13 968.5001,-254.13\"/>\n</g>\n<!-- 3 -->\n<g id=\"node4\" class=\"node\">\n<title>3</title>\n<path fill=\"#f4ccaf\" stroke=\"#000000\" d=\"M348,-140C348,-140 12,-140 12,-140 6,-140 0,-134 0,-128 0,-128 0,-84 0,-84 0,-78 6,-72 12,-72 12,-72 348,-72 348,-72 354,-72 360,-78 360,-84 360,-84 360,-128 360,-128 360,-134 354,-140 348,-140\"/>\n<text text-anchor=\"middle\" x=\"180\" y=\"-124.8\" font-family=\"Helvetica,sans-Serif\" font-size=\"14.00\" fill=\"#000000\">waterpoint_type_communal standpipe multiple &lt;= 0.5</text>\n<text text-anchor=\"middle\" x=\"180\" y=\"-109.8\" font-family=\"Helvetica,sans-Serif\" font-size=\"14.00\" fill=\"#000000\">samples = 53.2%</text>\n<text text-anchor=\"middle\" x=\"180\" y=\"-94.8\" font-family=\"Helvetica,sans-Serif\" font-size=\"14.00\" fill=\"#000000\">value = [0.594, 0.086, 0.319]</text>\n<text text-anchor=\"middle\" x=\"180\" y=\"-79.8\" font-family=\"Helvetica,sans-Serif\" font-size=\"14.00\" fill=\"#000000\">class = functional</text>\n</g>\n<!-- 2&#45;&gt;3 -->\n<g id=\"edge3\" class=\"edge\">\n<title>2&#45;&gt;3</title>\n<path fill=\"none\" stroke=\"#000000\" d=\"M457.6953,-182.403C413.4969,-170.2425 360.9292,-155.7795 313.4837,-142.7257\"/>\n<polygon fill=\"#000000\" stroke=\"#000000\" points=\"314.3252,-139.3272 303.755,-140.049 312.4682,-146.0764 314.3252,-139.3272\"/>\n</g>\n<!-- 12008 -->\n<g id=\"node7\" class=\"node\">\n<title>12008</title>\n<path fill=\"#eda774\" stroke=\"#000000\" d=\"M726,-140C726,-140 390,-140 390,-140 384,-140 378,-134 378,-128 378,-128 378,-84 378,-84 378,-78 384,-72 390,-72 390,-72 726,-72 726,-72 732,-72 738,-78 738,-84 738,-84 738,-128 738,-128 738,-134 732,-140 726,-140\"/>\n<text text-anchor=\"middle\" x=\"558\" y=\"-124.8\" font-family=\"Helvetica,sans-Serif\" font-size=\"14.00\" fill=\"#000000\">waterpoint_type_communal standpipe multiple &lt;= 0.5</text>\n<text text-anchor=\"middle\" x=\"558\" y=\"-109.8\" font-family=\"Helvetica,sans-Serif\" font-size=\"14.00\" fill=\"#000000\">samples = 28.0%</text>\n<text text-anchor=\"middle\" x=\"558\" y=\"-94.8\" font-family=\"Helvetica,sans-Serif\" font-size=\"14.00\" fill=\"#000000\">value = [0.753, 0.076, 0.171]</text>\n<text text-anchor=\"middle\" x=\"558\" y=\"-79.8\" font-family=\"Helvetica,sans-Serif\" font-size=\"14.00\" fill=\"#000000\">class = functional</text>\n</g>\n<!-- 2&#45;&gt;12008 -->\n<g id=\"edge6\" class=\"edge\">\n<title>2&#45;&gt;12008</title>\n<path fill=\"none\" stroke=\"#000000\" d=\"M558,-175.9465C558,-167.776 558,-158.9318 558,-150.3697\"/>\n<polygon fill=\"#000000\" stroke=\"#000000\" points=\"561.5001,-150.13 558,-140.13 554.5001,-150.13 561.5001,-150.13\"/>\n</g>\n<!-- 4 -->\n<g id=\"node5\" class=\"node\">\n<title>4</title>\n<path fill=\"#c0c0c0\" stroke=\"#000000\" d=\"M159,-36C159,-36 129,-36 129,-36 123,-36 117,-30 117,-24 117,-24 117,-12 117,-12 117,-6 123,0 129,0 129,0 159,0 159,0 165,0 171,-6 171,-12 171,-12 171,-24 171,-24 171,-30 165,-36 159,-36\"/>\n<text text-anchor=\"middle\" x=\"144\" y=\"-14.3\" font-family=\"Helvetica,sans-Serif\" font-size=\"14.00\" fill=\"#000000\">(...)</text>\n</g>\n<!-- 3&#45;&gt;4 -->\n<g id=\"edge4\" class=\"edge\">\n<title>3&#45;&gt;4</title>\n<path fill=\"none\" stroke=\"#000000\" d=\"M166.0815,-71.9769C162.4977,-63.2167 158.6862,-53.8995 155.2564,-45.5157\"/>\n<polygon fill=\"#000000\" stroke=\"#000000\" points=\"158.468,-44.1222 151.4422,-36.192 151.9891,-46.7727 158.468,-44.1222\"/>\n</g>\n<!-- 11155 -->\n<g id=\"node6\" class=\"node\">\n<title>11155</title>\n<path fill=\"#c0c0c0\" stroke=\"#000000\" d=\"M231,-36C231,-36 201,-36 201,-36 195,-36 189,-30 189,-24 189,-24 189,-12 189,-12 189,-6 195,0 201,0 201,0 231,0 231,0 237,0 243,-6 243,-12 243,-12 243,-24 243,-24 243,-30 237,-36 231,-36\"/>\n<text text-anchor=\"middle\" x=\"216\" y=\"-14.3\" font-family=\"Helvetica,sans-Serif\" font-size=\"14.00\" fill=\"#000000\">(...)</text>\n</g>\n<!-- 3&#45;&gt;11155 -->\n<g id=\"edge5\" class=\"edge\">\n<title>3&#45;&gt;11155</title>\n<path fill=\"none\" stroke=\"#000000\" d=\"M193.9185,-71.9769C197.5023,-63.2167 201.3138,-53.8995 204.7436,-45.5157\"/>\n<polygon fill=\"#000000\" stroke=\"#000000\" points=\"208.0109,-46.7727 208.5578,-36.192 201.532,-44.1222 208.0109,-46.7727\"/>\n</g>\n<!-- 12009 -->\n<g id=\"node8\" class=\"node\">\n<title>12009</title>\n<path fill=\"#c0c0c0\" stroke=\"#000000\" d=\"M537,-36C537,-36 507,-36 507,-36 501,-36 495,-30 495,-24 495,-24 495,-12 495,-12 495,-6 501,0 507,0 507,0 537,0 537,0 543,0 549,-6 549,-12 549,-12 549,-24 549,-24 549,-30 543,-36 537,-36\"/>\n<text text-anchor=\"middle\" x=\"522\" y=\"-14.3\" font-family=\"Helvetica,sans-Serif\" font-size=\"14.00\" fill=\"#000000\">(...)</text>\n</g>\n<!-- 12008&#45;&gt;12009 -->\n<g id=\"edge7\" class=\"edge\">\n<title>12008&#45;&gt;12009</title>\n<path fill=\"none\" stroke=\"#000000\" d=\"M544.0815,-71.9769C540.4977,-63.2167 536.6862,-53.8995 533.2564,-45.5157\"/>\n<polygon fill=\"#000000\" stroke=\"#000000\" points=\"536.468,-44.1222 529.4422,-36.192 529.9891,-46.7727 536.468,-44.1222\"/>\n</g>\n<!-- 16130 -->\n<g id=\"node9\" class=\"node\">\n<title>16130</title>\n<path fill=\"#c0c0c0\" stroke=\"#000000\" d=\"M609,-36C609,-36 579,-36 579,-36 573,-36 567,-30 567,-24 567,-24 567,-12 567,-12 567,-6 573,0 579,0 579,0 609,0 609,0 615,0 621,-6 621,-12 621,-12 621,-24 621,-24 621,-30 615,-36 609,-36\"/>\n<text text-anchor=\"middle\" x=\"594\" y=\"-14.3\" font-family=\"Helvetica,sans-Serif\" font-size=\"14.00\" fill=\"#000000\">(...)</text>\n</g>\n<!-- 12008&#45;&gt;16130 -->\n<g id=\"edge8\" class=\"edge\">\n<title>12008&#45;&gt;16130</title>\n<path fill=\"none\" stroke=\"#000000\" d=\"M571.9185,-71.9769C575.5023,-63.2167 579.3138,-53.8995 582.7436,-45.5157\"/>\n<polygon fill=\"#000000\" stroke=\"#000000\" points=\"586.0109,-46.7727 586.5578,-36.192 579.532,-44.1222 586.0109,-46.7727\"/>\n</g>\n<!-- 16954 -->\n<g id=\"node11\" class=\"node\">\n<title>16954</title>\n<path fill=\"#c9aaf4\" stroke=\"#000000\" d=\"M944,-140C944,-140 768,-140 768,-140 762,-140 756,-134 756,-128 756,-128 756,-84 756,-84 756,-78 762,-72 768,-72 768,-72 944,-72 944,-72 950,-72 956,-78 956,-84 956,-84 956,-128 956,-128 956,-134 950,-140 944,-140\"/>\n<text text-anchor=\"middle\" x=\"856\" y=\"-124.8\" font-family=\"Helvetica,sans-Serif\" font-size=\"14.00\" fill=\"#000000\">latitude &lt;= &#45;3.167</text>\n<text text-anchor=\"middle\" x=\"856\" y=\"-109.8\" font-family=\"Helvetica,sans-Serif\" font-size=\"14.00\" fill=\"#000000\">samples = 2.4%</text>\n<text text-anchor=\"middle\" x=\"856\" y=\"-94.8\" font-family=\"Helvetica,sans-Serif\" font-size=\"14.00\" fill=\"#000000\">value = [0.288, 0.119, 0.593]</text>\n<text text-anchor=\"middle\" x=\"856\" y=\"-79.8\" font-family=\"Helvetica,sans-Serif\" font-size=\"14.00\" fill=\"#000000\">class = non functional</text>\n</g>\n<!-- 16953&#45;&gt;16954 -->\n<g id=\"edge10\" class=\"edge\">\n<title>16953&#45;&gt;16954</title>\n<path fill=\"none\" stroke=\"#000000\" d=\"M929.3093,-175.9465C919.7109,-166.7884 909.2253,-156.7838 899.2634,-147.2788\"/>\n<polygon fill=\"#000000\" stroke=\"#000000\" points=\"901.4221,-144.5009 891.7709,-140.13 896.5898,-149.5655 901.4221,-144.5009\"/>\n</g>\n<!-- 17411 -->\n<g id=\"node14\" class=\"node\">\n<title>17411</title>\n<path fill=\"#965ae9\" stroke=\"#000000\" d=\"M1162,-140C1162,-140 986,-140 986,-140 980,-140 974,-134 974,-128 974,-128 974,-84 974,-84 974,-78 980,-72 986,-72 986,-72 1162,-72 1162,-72 1168,-72 1174,-78 1174,-84 1174,-84 1174,-128 1174,-128 1174,-134 1168,-140 1162,-140\"/>\n<text text-anchor=\"middle\" x=\"1074\" y=\"-124.8\" font-family=\"Helvetica,sans-Serif\" font-size=\"14.00\" fill=\"#000000\">quality_group_milky &lt;= 0.5</text>\n<text text-anchor=\"middle\" x=\"1074\" y=\"-109.8\" font-family=\"Helvetica,sans-Serif\" font-size=\"14.00\" fill=\"#000000\">samples = 6.1%</text>\n<text text-anchor=\"middle\" x=\"1074\" y=\"-94.8\" font-family=\"Helvetica,sans-Serif\" font-size=\"14.00\" fill=\"#000000\">value = [0.113, 0.033, 0.854]</text>\n<text text-anchor=\"middle\" x=\"1074\" y=\"-79.8\" font-family=\"Helvetica,sans-Serif\" font-size=\"14.00\" fill=\"#000000\">class = non functional</text>\n</g>\n<!-- 16953&#45;&gt;17411 -->\n<g id=\"edge13\" class=\"edge\">\n<title>16953&#45;&gt;17411</title>\n<path fill=\"none\" stroke=\"#000000\" d=\"M1000.6907,-175.9465C1010.2891,-166.7884 1020.7747,-156.7838 1030.7366,-147.2788\"/>\n<polygon fill=\"#000000\" stroke=\"#000000\" points=\"1033.4102,-149.5655 1038.2291,-140.13 1028.5779,-144.5009 1033.4102,-149.5655\"/>\n</g>\n<!-- 16955 -->\n<g id=\"node12\" class=\"node\">\n<title>16955</title>\n<path fill=\"#c0c0c0\" stroke=\"#000000\" d=\"M835,-36C835,-36 805,-36 805,-36 799,-36 793,-30 793,-24 793,-24 793,-12 793,-12 793,-6 799,0 805,0 805,0 835,0 835,0 841,0 847,-6 847,-12 847,-12 847,-24 847,-24 847,-30 841,-36 835,-36\"/>\n<text text-anchor=\"middle\" x=\"820\" y=\"-14.3\" font-family=\"Helvetica,sans-Serif\" font-size=\"14.00\" fill=\"#000000\">(...)</text>\n</g>\n<!-- 16954&#45;&gt;16955 -->\n<g id=\"edge11\" class=\"edge\">\n<title>16954&#45;&gt;16955</title>\n<path fill=\"none\" stroke=\"#000000\" d=\"M842.0815,-71.9769C838.4977,-63.2167 834.6862,-53.8995 831.2564,-45.5157\"/>\n<polygon fill=\"#000000\" stroke=\"#000000\" points=\"834.468,-44.1222 827.4422,-36.192 827.9891,-46.7727 834.468,-44.1222\"/>\n</g>\n<!-- 17314 -->\n<g id=\"node13\" class=\"node\">\n<title>17314</title>\n<path fill=\"#c0c0c0\" stroke=\"#000000\" d=\"M907,-36C907,-36 877,-36 877,-36 871,-36 865,-30 865,-24 865,-24 865,-12 865,-12 865,-6 871,0 877,0 877,0 907,0 907,0 913,0 919,-6 919,-12 919,-12 919,-24 919,-24 919,-30 913,-36 907,-36\"/>\n<text text-anchor=\"middle\" x=\"892\" y=\"-14.3\" font-family=\"Helvetica,sans-Serif\" font-size=\"14.00\" fill=\"#000000\">(...)</text>\n</g>\n<!-- 16954&#45;&gt;17314 -->\n<g id=\"edge12\" class=\"edge\">\n<title>16954&#45;&gt;17314</title>\n<path fill=\"none\" stroke=\"#000000\" d=\"M869.9185,-71.9769C873.5023,-63.2167 877.3138,-53.8995 880.7436,-45.5157\"/>\n<polygon fill=\"#000000\" stroke=\"#000000\" points=\"884.0109,-46.7727 884.5578,-36.192 877.532,-44.1222 884.0109,-46.7727\"/>\n</g>\n<!-- 17412 -->\n<g id=\"node15\" class=\"node\">\n<title>17412</title>\n<path fill=\"#c0c0c0\" stroke=\"#000000\" d=\"M1053,-36C1053,-36 1023,-36 1023,-36 1017,-36 1011,-30 1011,-24 1011,-24 1011,-12 1011,-12 1011,-6 1017,0 1023,0 1023,0 1053,0 1053,0 1059,0 1065,-6 1065,-12 1065,-12 1065,-24 1065,-24 1065,-30 1059,-36 1053,-36\"/>\n<text text-anchor=\"middle\" x=\"1038\" y=\"-14.3\" font-family=\"Helvetica,sans-Serif\" font-size=\"14.00\" fill=\"#000000\">(...)</text>\n</g>\n<!-- 17411&#45;&gt;17412 -->\n<g id=\"edge14\" class=\"edge\">\n<title>17411&#45;&gt;17412</title>\n<path fill=\"none\" stroke=\"#000000\" d=\"M1060.0815,-71.9769C1056.4977,-63.2167 1052.6862,-53.8995 1049.2564,-45.5157\"/>\n<polygon fill=\"#000000\" stroke=\"#000000\" points=\"1052.468,-44.1222 1045.4422,-36.192 1045.9891,-46.7727 1052.468,-44.1222\"/>\n</g>\n<!-- 17997 -->\n<g id=\"node16\" class=\"node\">\n<title>17997</title>\n<path fill=\"#c0c0c0\" stroke=\"#000000\" d=\"M1125,-36C1125,-36 1095,-36 1095,-36 1089,-36 1083,-30 1083,-24 1083,-24 1083,-12 1083,-12 1083,-6 1089,0 1095,0 1095,0 1125,0 1125,0 1131,0 1137,-6 1137,-12 1137,-12 1137,-24 1137,-24 1137,-30 1131,-36 1125,-36\"/>\n<text text-anchor=\"middle\" x=\"1110\" y=\"-14.3\" font-family=\"Helvetica,sans-Serif\" font-size=\"14.00\" fill=\"#000000\">(...)</text>\n</g>\n<!-- 17411&#45;&gt;17997 -->\n<g id=\"edge15\" class=\"edge\">\n<title>17411&#45;&gt;17997</title>\n<path fill=\"none\" stroke=\"#000000\" d=\"M1087.9185,-71.9769C1091.5023,-63.2167 1095.3138,-53.8995 1098.7436,-45.5157\"/>\n<polygon fill=\"#000000\" stroke=\"#000000\" points=\"1102.0109,-46.7727 1102.5578,-36.192 1095.532,-44.1222 1102.0109,-46.7727\"/>\n</g>\n<!-- 18119 -->\n<g id=\"node18\" class=\"node\">\n<title>18119</title>\n<path fill=\"#843ee6\" stroke=\"#000000\" d=\"M1536.5,-244C1536.5,-244 1359.5,-244 1359.5,-244 1353.5,-244 1347.5,-238 1347.5,-232 1347.5,-232 1347.5,-188 1347.5,-188 1347.5,-182 1353.5,-176 1359.5,-176 1359.5,-176 1536.5,-176 1536.5,-176 1542.5,-176 1548.5,-182 1548.5,-188 1548.5,-188 1548.5,-232 1548.5,-232 1548.5,-238 1542.5,-244 1536.5,-244\"/>\n<text text-anchor=\"middle\" x=\"1448\" y=\"-228.8\" font-family=\"Helvetica,sans-Serif\" font-size=\"14.00\" fill=\"#000000\">construction_year &lt;= 2011.5</text>\n<text text-anchor=\"middle\" x=\"1448\" y=\"-213.8\" font-family=\"Helvetica,sans-Serif\" font-size=\"14.00\" fill=\"#000000\">samples = 9.7%</text>\n<text text-anchor=\"middle\" x=\"1448\" y=\"-198.8\" font-family=\"Helvetica,sans-Serif\" font-size=\"14.00\" fill=\"#000000\">value = [0.019, 0.006, 0.974]</text>\n<text text-anchor=\"middle\" x=\"1448\" y=\"-183.8\" font-family=\"Helvetica,sans-Serif\" font-size=\"14.00\" fill=\"#000000\">class = non functional</text>\n</g>\n<!-- 18118&#45;&gt;18119 -->\n<g id=\"edge17\" class=\"edge\">\n<title>18118&#45;&gt;18119</title>\n<path fill=\"none\" stroke=\"#000000\" d=\"M1448,-279.9465C1448,-271.776 1448,-262.9318 1448,-254.3697\"/>\n<polygon fill=\"#000000\" stroke=\"#000000\" points=\"1451.5001,-254.13 1448,-244.13 1444.5001,-254.13 1451.5001,-254.13\"/>\n</g>\n<!-- 18456 -->\n<g id=\"node25\" class=\"node\">\n<title>18456</title>\n<path fill=\"#9558e9\" stroke=\"#000000\" d=\"M1872,-244C1872,-244 1696,-244 1696,-244 1690,-244 1684,-238 1684,-232 1684,-232 1684,-188 1684,-188 1684,-182 1690,-176 1696,-176 1696,-176 1872,-176 1872,-176 1878,-176 1884,-182 1884,-188 1884,-188 1884,-232 1884,-232 1884,-238 1878,-244 1872,-244\"/>\n<text text-anchor=\"middle\" x=\"1784\" y=\"-228.8\" font-family=\"Helvetica,sans-Serif\" font-size=\"14.00\" fill=\"#000000\">longitude &lt;= 32.736</text>\n<text text-anchor=\"middle\" x=\"1784\" y=\"-213.8\" font-family=\"Helvetica,sans-Serif\" font-size=\"14.00\" fill=\"#000000\">samples = 0.6%</text>\n<text text-anchor=\"middle\" x=\"1784\" y=\"-198.8\" font-family=\"Helvetica,sans-Serif\" font-size=\"14.00\" fill=\"#000000\">value = [0.132, 0.003, 0.864]</text>\n<text text-anchor=\"middle\" x=\"1784\" y=\"-183.8\" font-family=\"Helvetica,sans-Serif\" font-size=\"14.00\" fill=\"#000000\">class = non functional</text>\n</g>\n<!-- 18118&#45;&gt;18456 -->\n<g id=\"edge24\" class=\"edge\">\n<title>18118&#45;&gt;18456</title>\n<path fill=\"none\" stroke=\"#000000\" d=\"M1548.356,-282.9374C1588.0095,-270.6637 1633.6989,-256.5218 1674.2286,-243.9769\"/>\n<polygon fill=\"#000000\" stroke=\"#000000\" points=\"1675.353,-247.2927 1683.871,-240.9923 1673.2832,-240.6057 1675.353,-247.2927\"/>\n</g>\n<!-- 18120 -->\n<g id=\"node19\" class=\"node\">\n<title>18120</title>\n<path fill=\"#843ee6\" stroke=\"#000000\" d=\"M1460,-140C1460,-140 1204,-140 1204,-140 1198,-140 1192,-134 1192,-128 1192,-128 1192,-84 1192,-84 1192,-78 1198,-72 1204,-72 1204,-72 1460,-72 1460,-72 1466,-72 1472,-78 1472,-84 1472,-84 1472,-128 1472,-128 1472,-134 1466,-140 1460,-140\"/>\n<text text-anchor=\"middle\" x=\"1332\" y=\"-124.8\" font-family=\"Helvetica,sans-Serif\" font-size=\"14.00\" fill=\"#000000\">extraction_type_class_handpump &lt;= 0.5</text>\n<text text-anchor=\"middle\" x=\"1332\" y=\"-109.8\" font-family=\"Helvetica,sans-Serif\" font-size=\"14.00\" fill=\"#000000\">samples = 9.6%</text>\n<text text-anchor=\"middle\" x=\"1332\" y=\"-94.8\" font-family=\"Helvetica,sans-Serif\" font-size=\"14.00\" fill=\"#000000\">value = [0.017, 0.007, 0.977]</text>\n<text text-anchor=\"middle\" x=\"1332\" y=\"-79.8\" font-family=\"Helvetica,sans-Serif\" font-size=\"14.00\" fill=\"#000000\">class = non functional</text>\n</g>\n<!-- 18119&#45;&gt;18120 -->\n<g id=\"edge18\" class=\"edge\">\n<title>18119&#45;&gt;18120</title>\n<path fill=\"none\" stroke=\"#000000\" d=\"M1410.0173,-175.9465C1399.7023,-166.6986 1388.4246,-156.5876 1377.7301,-146.9994\"/>\n<polygon fill=\"#000000\" stroke=\"#000000\" points=\"1379.8502,-144.1995 1370.0681,-140.13 1375.1774,-149.4115 1379.8502,-144.1995\"/>\n</g>\n<!-- 18445 -->\n<g id=\"node22\" class=\"node\">\n<title>18445</title>\n<path fill=\"#a26dec\" stroke=\"#000000\" d=\"M1662,-140C1662,-140 1502,-140 1502,-140 1496,-140 1490,-134 1490,-128 1490,-128 1490,-84 1490,-84 1490,-78 1496,-72 1502,-72 1502,-72 1662,-72 1662,-72 1668,-72 1674,-78 1674,-84 1674,-84 1674,-128 1674,-128 1674,-134 1668,-140 1662,-140\"/>\n<text text-anchor=\"middle\" x=\"1582\" y=\"-124.8\" font-family=\"Helvetica,sans-Serif\" font-size=\"14.00\" fill=\"#000000\">latitude &lt;= &#45;10.752</text>\n<text text-anchor=\"middle\" x=\"1582\" y=\"-109.8\" font-family=\"Helvetica,sans-Serif\" font-size=\"14.00\" fill=\"#000000\">samples = 0.1%</text>\n<text text-anchor=\"middle\" x=\"1582\" y=\"-94.8\" font-family=\"Helvetica,sans-Serif\" font-size=\"14.00\" fill=\"#000000\">value = [0.208, 0.0, 0.792]</text>\n<text text-anchor=\"middle\" x=\"1582\" y=\"-79.8\" font-family=\"Helvetica,sans-Serif\" font-size=\"14.00\" fill=\"#000000\">class = non functional</text>\n</g>\n<!-- 18119&#45;&gt;18445 -->\n<g id=\"edge21\" class=\"edge\">\n<title>18119&#45;&gt;18445</title>\n<path fill=\"none\" stroke=\"#000000\" d=\"M1491.8766,-175.9465C1504.0235,-166.519 1517.3262,-156.1946 1529.8927,-146.4415\"/>\n<polygon fill=\"#000000\" stroke=\"#000000\" points=\"1532.2709,-149.0262 1538.0248,-140.13 1527.979,-143.4963 1532.2709,-149.0262\"/>\n</g>\n<!-- 18121 -->\n<g id=\"node20\" class=\"node\">\n<title>18121</title>\n<path fill=\"#c0c0c0\" stroke=\"#000000\" d=\"M1311,-36C1311,-36 1281,-36 1281,-36 1275,-36 1269,-30 1269,-24 1269,-24 1269,-12 1269,-12 1269,-6 1275,0 1281,0 1281,0 1311,0 1311,0 1317,0 1323,-6 1323,-12 1323,-12 1323,-24 1323,-24 1323,-30 1317,-36 1311,-36\"/>\n<text text-anchor=\"middle\" x=\"1296\" y=\"-14.3\" font-family=\"Helvetica,sans-Serif\" font-size=\"14.00\" fill=\"#000000\">(...)</text>\n</g>\n<!-- 18120&#45;&gt;18121 -->\n<g id=\"edge19\" class=\"edge\">\n<title>18120&#45;&gt;18121</title>\n<path fill=\"none\" stroke=\"#000000\" d=\"M1318.0815,-71.9769C1314.4977,-63.2167 1310.6862,-53.8995 1307.2564,-45.5157\"/>\n<polygon fill=\"#000000\" stroke=\"#000000\" points=\"1310.468,-44.1222 1303.4422,-36.192 1303.9891,-46.7727 1310.468,-44.1222\"/>\n</g>\n<!-- 18308 -->\n<g id=\"node21\" class=\"node\">\n<title>18308</title>\n<path fill=\"#c0c0c0\" stroke=\"#000000\" d=\"M1383,-36C1383,-36 1353,-36 1353,-36 1347,-36 1341,-30 1341,-24 1341,-24 1341,-12 1341,-12 1341,-6 1347,0 1353,0 1353,0 1383,0 1383,0 1389,0 1395,-6 1395,-12 1395,-12 1395,-24 1395,-24 1395,-30 1389,-36 1383,-36\"/>\n<text text-anchor=\"middle\" x=\"1368\" y=\"-14.3\" font-family=\"Helvetica,sans-Serif\" font-size=\"14.00\" fill=\"#000000\">(...)</text>\n</g>\n<!-- 18120&#45;&gt;18308 -->\n<g id=\"edge20\" class=\"edge\">\n<title>18120&#45;&gt;18308</title>\n<path fill=\"none\" stroke=\"#000000\" d=\"M1345.9185,-71.9769C1349.5023,-63.2167 1353.3138,-53.8995 1356.7436,-45.5157\"/>\n<polygon fill=\"#000000\" stroke=\"#000000\" points=\"1360.0109,-46.7727 1360.5578,-36.192 1353.532,-44.1222 1360.0109,-46.7727\"/>\n</g>\n<!-- 18446 -->\n<g id=\"node23\" class=\"node\">\n<title>18446</title>\n<path fill=\"#c0c0c0\" stroke=\"#000000\" d=\"M1554,-36C1554,-36 1524,-36 1524,-36 1518,-36 1512,-30 1512,-24 1512,-24 1512,-12 1512,-12 1512,-6 1518,0 1524,0 1524,0 1554,0 1554,0 1560,0 1566,-6 1566,-12 1566,-12 1566,-24 1566,-24 1566,-30 1560,-36 1554,-36\"/>\n<text text-anchor=\"middle\" x=\"1539\" y=\"-14.3\" font-family=\"Helvetica,sans-Serif\" font-size=\"14.00\" fill=\"#000000\">(...)</text>\n</g>\n<!-- 18445&#45;&gt;18446 -->\n<g id=\"edge22\" class=\"edge\">\n<title>18445&#45;&gt;18446</title>\n<path fill=\"none\" stroke=\"#000000\" d=\"M1565.3751,-71.9769C1561.048,-63.1215 1556.4428,-53.6969 1552.3118,-45.2427\"/>\n<polygon fill=\"#000000\" stroke=\"#000000\" points=\"1555.4242,-43.6401 1547.8892,-36.192 1549.1349,-46.7133 1555.4242,-43.6401\"/>\n</g>\n<!-- 18449 -->\n<g id=\"node24\" class=\"node\">\n<title>18449</title>\n<path fill=\"#c0c0c0\" stroke=\"#000000\" d=\"M1626,-36C1626,-36 1596,-36 1596,-36 1590,-36 1584,-30 1584,-24 1584,-24 1584,-12 1584,-12 1584,-6 1590,0 1596,0 1596,0 1626,0 1626,0 1632,0 1638,-6 1638,-12 1638,-12 1638,-24 1638,-24 1638,-30 1632,-36 1626,-36\"/>\n<text text-anchor=\"middle\" x=\"1611\" y=\"-14.3\" font-family=\"Helvetica,sans-Serif\" font-size=\"14.00\" fill=\"#000000\">(...)</text>\n</g>\n<!-- 18445&#45;&gt;18449 -->\n<g id=\"edge23\" class=\"edge\">\n<title>18445&#45;&gt;18449</title>\n<path fill=\"none\" stroke=\"#000000\" d=\"M1593.2122,-71.9769C1596.0677,-63.3119 1599.1028,-54.102 1601.8421,-45.7894\"/>\n<polygon fill=\"#000000\" stroke=\"#000000\" points=\"1605.1991,-46.785 1605.0049,-36.192 1598.5508,-44.594 1605.1991,-46.785\"/>\n</g>\n<!-- 18457 -->\n<g id=\"node26\" class=\"node\">\n<title>18457</title>\n<path fill=\"#fbe9dd\" stroke=\"#000000\" d=\"M1864,-140C1864,-140 1704,-140 1704,-140 1698,-140 1692,-134 1692,-128 1692,-128 1692,-84 1692,-84 1692,-78 1698,-72 1704,-72 1704,-72 1864,-72 1864,-72 1870,-72 1876,-78 1876,-84 1876,-84 1876,-128 1876,-128 1876,-134 1870,-140 1864,-140\"/>\n<text text-anchor=\"middle\" x=\"1784\" y=\"-124.8\" font-family=\"Helvetica,sans-Serif\" font-size=\"14.00\" fill=\"#000000\">longitude &lt;= 32.133</text>\n<text text-anchor=\"middle\" x=\"1784\" y=\"-109.8\" font-family=\"Helvetica,sans-Serif\" font-size=\"14.00\" fill=\"#000000\">samples = 0.1%</text>\n<text text-anchor=\"middle\" x=\"1784\" y=\"-94.8\" font-family=\"Helvetica,sans-Serif\" font-size=\"14.00\" fill=\"#000000\">value = [0.547, 0.0, 0.453]</text>\n<text text-anchor=\"middle\" x=\"1784\" y=\"-79.8\" font-family=\"Helvetica,sans-Serif\" font-size=\"14.00\" fill=\"#000000\">class = functional</text>\n</g>\n<!-- 18456&#45;&gt;18457 -->\n<g id=\"edge25\" class=\"edge\">\n<title>18456&#45;&gt;18457</title>\n<path fill=\"none\" stroke=\"#000000\" d=\"M1784,-175.9465C1784,-167.776 1784,-158.9318 1784,-150.3697\"/>\n<polygon fill=\"#000000\" stroke=\"#000000\" points=\"1787.5001,-150.13 1784,-140.13 1780.5001,-150.13 1787.5001,-150.13\"/>\n</g>\n<!-- 18496 -->\n<g id=\"node29\" class=\"node\">\n<title>18496</title>\n<path fill=\"#8743e6\" stroke=\"#000000\" d=\"M2126,-140C2126,-140 1906,-140 1906,-140 1900,-140 1894,-134 1894,-128 1894,-128 1894,-84 1894,-84 1894,-78 1900,-72 1906,-72 1906,-72 2126,-72 2126,-72 2132,-72 2138,-78 2138,-84 2138,-84 2138,-128 2138,-128 2138,-134 2132,-140 2126,-140\"/>\n<text text-anchor=\"middle\" x=\"2016\" y=\"-124.8\" font-family=\"Helvetica,sans-Serif\" font-size=\"14.00\" fill=\"#000000\">source_rainwater harvesting &lt;= 0.5</text>\n<text text-anchor=\"middle\" x=\"2016\" y=\"-109.8\" font-family=\"Helvetica,sans-Serif\" font-size=\"14.00\" fill=\"#000000\">samples = 0.5%</text>\n<text text-anchor=\"middle\" x=\"2016\" y=\"-94.8\" font-family=\"Helvetica,sans-Serif\" font-size=\"14.00\" fill=\"#000000\">value = [0.044, 0.004, 0.952]</text>\n<text text-anchor=\"middle\" x=\"2016\" y=\"-79.8\" font-family=\"Helvetica,sans-Serif\" font-size=\"14.00\" fill=\"#000000\">class = non functional</text>\n</g>\n<!-- 18456&#45;&gt;18496 -->\n<g id=\"edge28\" class=\"edge\">\n<title>18456&#45;&gt;18496</title>\n<path fill=\"none\" stroke=\"#000000\" d=\"M1859.9655,-175.9465C1882.5983,-165.8008 1907.5487,-154.6161 1930.7337,-144.2228\"/>\n<polygon fill=\"#000000\" stroke=\"#000000\" points=\"1932.1705,-147.4144 1939.8639,-140.13 1929.307,-141.0268 1932.1705,-147.4144\"/>\n</g>\n<!-- 18458 -->\n<g id=\"node27\" class=\"node\">\n<title>18458</title>\n<path fill=\"#c0c0c0\" stroke=\"#000000\" d=\"M1763,-36C1763,-36 1733,-36 1733,-36 1727,-36 1721,-30 1721,-24 1721,-24 1721,-12 1721,-12 1721,-6 1727,0 1733,0 1733,0 1763,0 1763,0 1769,0 1775,-6 1775,-12 1775,-12 1775,-24 1775,-24 1775,-30 1769,-36 1763,-36\"/>\n<text text-anchor=\"middle\" x=\"1748\" y=\"-14.3\" font-family=\"Helvetica,sans-Serif\" font-size=\"14.00\" fill=\"#000000\">(...)</text>\n</g>\n<!-- 18457&#45;&gt;18458 -->\n<g id=\"edge26\" class=\"edge\">\n<title>18457&#45;&gt;18458</title>\n<path fill=\"none\" stroke=\"#000000\" d=\"M1770.0815,-71.9769C1766.4977,-63.2167 1762.6862,-53.8995 1759.2564,-45.5157\"/>\n<polygon fill=\"#000000\" stroke=\"#000000\" points=\"1762.468,-44.1222 1755.4422,-36.192 1755.9891,-46.7727 1762.468,-44.1222\"/>\n</g>\n<!-- 18459 -->\n<g id=\"node28\" class=\"node\">\n<title>18459</title>\n<path fill=\"#c0c0c0\" stroke=\"#000000\" d=\"M1835,-36C1835,-36 1805,-36 1805,-36 1799,-36 1793,-30 1793,-24 1793,-24 1793,-12 1793,-12 1793,-6 1799,0 1805,0 1805,0 1835,0 1835,0 1841,0 1847,-6 1847,-12 1847,-12 1847,-24 1847,-24 1847,-30 1841,-36 1835,-36\"/>\n<text text-anchor=\"middle\" x=\"1820\" y=\"-14.3\" font-family=\"Helvetica,sans-Serif\" font-size=\"14.00\" fill=\"#000000\">(...)</text>\n</g>\n<!-- 18457&#45;&gt;18459 -->\n<g id=\"edge27\" class=\"edge\">\n<title>18457&#45;&gt;18459</title>\n<path fill=\"none\" stroke=\"#000000\" d=\"M1797.9185,-71.9769C1801.5023,-63.2167 1805.3138,-53.8995 1808.7436,-45.5157\"/>\n<polygon fill=\"#000000\" stroke=\"#000000\" points=\"1812.0109,-46.7727 1812.5578,-36.192 1805.532,-44.1222 1812.0109,-46.7727\"/>\n</g>\n<!-- 18497 -->\n<g id=\"node30\" class=\"node\">\n<title>18497</title>\n<path fill=\"#c0c0c0\" stroke=\"#000000\" d=\"M1995,-36C1995,-36 1965,-36 1965,-36 1959,-36 1953,-30 1953,-24 1953,-24 1953,-12 1953,-12 1953,-6 1959,0 1965,0 1965,0 1995,0 1995,0 2001,0 2007,-6 2007,-12 2007,-12 2007,-24 2007,-24 2007,-30 2001,-36 1995,-36\"/>\n<text text-anchor=\"middle\" x=\"1980\" y=\"-14.3\" font-family=\"Helvetica,sans-Serif\" font-size=\"14.00\" fill=\"#000000\">(...)</text>\n</g>\n<!-- 18496&#45;&gt;18497 -->\n<g id=\"edge29\" class=\"edge\">\n<title>18496&#45;&gt;18497</title>\n<path fill=\"none\" stroke=\"#000000\" d=\"M2002.0815,-71.9769C1998.4977,-63.2167 1994.6862,-53.8995 1991.2564,-45.5157\"/>\n<polygon fill=\"#000000\" stroke=\"#000000\" points=\"1994.468,-44.1222 1987.4422,-36.192 1987.9891,-46.7727 1994.468,-44.1222\"/>\n</g>\n<!-- 18530 -->\n<g id=\"node31\" class=\"node\">\n<title>18530</title>\n<path fill=\"#c0c0c0\" stroke=\"#000000\" d=\"M2067,-36C2067,-36 2037,-36 2037,-36 2031,-36 2025,-30 2025,-24 2025,-24 2025,-12 2025,-12 2025,-6 2031,0 2037,0 2037,0 2067,0 2067,0 2073,0 2079,-6 2079,-12 2079,-12 2079,-24 2079,-24 2079,-30 2073,-36 2067,-36\"/>\n<text text-anchor=\"middle\" x=\"2052\" y=\"-14.3\" font-family=\"Helvetica,sans-Serif\" font-size=\"14.00\" fill=\"#000000\">(...)</text>\n</g>\n<!-- 18496&#45;&gt;18530 -->\n<g id=\"edge30\" class=\"edge\">\n<title>18496&#45;&gt;18530</title>\n<path fill=\"none\" stroke=\"#000000\" d=\"M2029.9185,-71.9769C2033.5023,-63.2167 2037.3138,-53.8995 2040.7436,-45.5157\"/>\n<polygon fill=\"#000000\" stroke=\"#000000\" points=\"2044.0109,-46.7727 2044.5578,-36.192 2037.532,-44.1222 2044.0109,-46.7727\"/>\n</g>\n</g>\n</svg>\n"
          },
          "metadata": {
            "tags": []
          }
        }
      ]
    },
    {
      "cell_type": "code",
      "metadata": {
        "id": "WgLVrYZC5XIb",
        "colab_type": "code",
        "colab": {
          "base_uri": "https://localhost:8080/",
          "height": 430
        },
        "outputId": "6f1dbdf8-4e0f-4d21-a8c1-3784ea26e189"
      },
      "source": [
        "test.head()"
      ],
      "execution_count": 8,
      "outputs": [
        {
          "output_type": "execute_result",
          "data": {
            "text/html": [
              "<div>\n",
              "<style scoped>\n",
              "    .dataframe tbody tr th:only-of-type {\n",
              "        vertical-align: middle;\n",
              "    }\n",
              "\n",
              "    .dataframe tbody tr th {\n",
              "        vertical-align: top;\n",
              "    }\n",
              "\n",
              "    .dataframe thead th {\n",
              "        text-align: right;\n",
              "    }\n",
              "</style>\n",
              "<table border=\"1\" class=\"dataframe\">\n",
              "  <thead>\n",
              "    <tr style=\"text-align: right;\">\n",
              "      <th></th>\n",
              "      <th>id</th>\n",
              "      <th>amount_tsh</th>\n",
              "      <th>date_recorded</th>\n",
              "      <th>funder</th>\n",
              "      <th>gps_height</th>\n",
              "      <th>installer</th>\n",
              "      <th>longitude</th>\n",
              "      <th>latitude</th>\n",
              "      <th>wpt_name</th>\n",
              "      <th>num_private</th>\n",
              "      <th>basin</th>\n",
              "      <th>subvillage</th>\n",
              "      <th>region</th>\n",
              "      <th>region_code</th>\n",
              "      <th>district_code</th>\n",
              "      <th>lga</th>\n",
              "      <th>ward</th>\n",
              "      <th>population</th>\n",
              "      <th>public_meeting</th>\n",
              "      <th>recorded_by</th>\n",
              "      <th>scheme_management</th>\n",
              "      <th>scheme_name</th>\n",
              "      <th>permit</th>\n",
              "      <th>construction_year</th>\n",
              "      <th>extraction_type</th>\n",
              "      <th>extraction_type_group</th>\n",
              "      <th>extraction_type_class</th>\n",
              "      <th>management</th>\n",
              "      <th>management_group</th>\n",
              "      <th>payment</th>\n",
              "      <th>payment_type</th>\n",
              "      <th>water_quality</th>\n",
              "      <th>quality_group</th>\n",
              "      <th>quantity</th>\n",
              "      <th>source</th>\n",
              "      <th>source_type</th>\n",
              "      <th>source_class</th>\n",
              "      <th>waterpoint_type</th>\n",
              "      <th>waterpoint_type_group</th>\n",
              "    </tr>\n",
              "  </thead>\n",
              "  <tbody>\n",
              "    <tr>\n",
              "      <th>0</th>\n",
              "      <td>50785</td>\n",
              "      <td>0.0</td>\n",
              "      <td>2013-02-04</td>\n",
              "      <td>Dmdd</td>\n",
              "      <td>1996</td>\n",
              "      <td>DMDD</td>\n",
              "      <td>35.290799</td>\n",
              "      <td>-4.059696</td>\n",
              "      <td>Dinamu Secondary School</td>\n",
              "      <td>0</td>\n",
              "      <td>Internal</td>\n",
              "      <td>Magoma</td>\n",
              "      <td>Manyara</td>\n",
              "      <td>21</td>\n",
              "      <td>3</td>\n",
              "      <td>Mbulu</td>\n",
              "      <td>Bashay</td>\n",
              "      <td>321</td>\n",
              "      <td>True</td>\n",
              "      <td>GeoData Consultants Ltd</td>\n",
              "      <td>Parastatal</td>\n",
              "      <td>NaN</td>\n",
              "      <td>True</td>\n",
              "      <td>2012</td>\n",
              "      <td>other</td>\n",
              "      <td>other</td>\n",
              "      <td>other</td>\n",
              "      <td>parastatal</td>\n",
              "      <td>parastatal</td>\n",
              "      <td>never pay</td>\n",
              "      <td>never pay</td>\n",
              "      <td>soft</td>\n",
              "      <td>good</td>\n",
              "      <td>seasonal</td>\n",
              "      <td>rainwater harvesting</td>\n",
              "      <td>rainwater harvesting</td>\n",
              "      <td>surface</td>\n",
              "      <td>other</td>\n",
              "      <td>other</td>\n",
              "    </tr>\n",
              "    <tr>\n",
              "      <th>1</th>\n",
              "      <td>51630</td>\n",
              "      <td>0.0</td>\n",
              "      <td>2013-02-04</td>\n",
              "      <td>Government Of Tanzania</td>\n",
              "      <td>1569</td>\n",
              "      <td>DWE</td>\n",
              "      <td>36.656709</td>\n",
              "      <td>-3.309214</td>\n",
              "      <td>Kimnyak</td>\n",
              "      <td>0</td>\n",
              "      <td>Pangani</td>\n",
              "      <td>Kimnyak</td>\n",
              "      <td>Arusha</td>\n",
              "      <td>2</td>\n",
              "      <td>2</td>\n",
              "      <td>Arusha Rural</td>\n",
              "      <td>Kimnyaki</td>\n",
              "      <td>300</td>\n",
              "      <td>True</td>\n",
              "      <td>GeoData Consultants Ltd</td>\n",
              "      <td>VWC</td>\n",
              "      <td>TPRI pipe line</td>\n",
              "      <td>True</td>\n",
              "      <td>2000</td>\n",
              "      <td>gravity</td>\n",
              "      <td>gravity</td>\n",
              "      <td>gravity</td>\n",
              "      <td>vwc</td>\n",
              "      <td>user-group</td>\n",
              "      <td>never pay</td>\n",
              "      <td>never pay</td>\n",
              "      <td>soft</td>\n",
              "      <td>good</td>\n",
              "      <td>insufficient</td>\n",
              "      <td>spring</td>\n",
              "      <td>spring</td>\n",
              "      <td>groundwater</td>\n",
              "      <td>communal standpipe</td>\n",
              "      <td>communal standpipe</td>\n",
              "    </tr>\n",
              "    <tr>\n",
              "      <th>2</th>\n",
              "      <td>17168</td>\n",
              "      <td>0.0</td>\n",
              "      <td>2013-02-01</td>\n",
              "      <td>NaN</td>\n",
              "      <td>1567</td>\n",
              "      <td>NaN</td>\n",
              "      <td>34.767863</td>\n",
              "      <td>-5.004344</td>\n",
              "      <td>Puma Secondary</td>\n",
              "      <td>0</td>\n",
              "      <td>Internal</td>\n",
              "      <td>Msatu</td>\n",
              "      <td>Singida</td>\n",
              "      <td>13</td>\n",
              "      <td>2</td>\n",
              "      <td>Singida Rural</td>\n",
              "      <td>Puma</td>\n",
              "      <td>500</td>\n",
              "      <td>True</td>\n",
              "      <td>GeoData Consultants Ltd</td>\n",
              "      <td>VWC</td>\n",
              "      <td>P</td>\n",
              "      <td>NaN</td>\n",
              "      <td>2010</td>\n",
              "      <td>other</td>\n",
              "      <td>other</td>\n",
              "      <td>other</td>\n",
              "      <td>vwc</td>\n",
              "      <td>user-group</td>\n",
              "      <td>never pay</td>\n",
              "      <td>never pay</td>\n",
              "      <td>soft</td>\n",
              "      <td>good</td>\n",
              "      <td>insufficient</td>\n",
              "      <td>rainwater harvesting</td>\n",
              "      <td>rainwater harvesting</td>\n",
              "      <td>surface</td>\n",
              "      <td>other</td>\n",
              "      <td>other</td>\n",
              "    </tr>\n",
              "    <tr>\n",
              "      <th>3</th>\n",
              "      <td>45559</td>\n",
              "      <td>0.0</td>\n",
              "      <td>2013-01-22</td>\n",
              "      <td>Finn Water</td>\n",
              "      <td>267</td>\n",
              "      <td>FINN WATER</td>\n",
              "      <td>38.058046</td>\n",
              "      <td>-9.418672</td>\n",
              "      <td>Kwa Mzee Pange</td>\n",
              "      <td>0</td>\n",
              "      <td>Ruvuma / Southern Coast</td>\n",
              "      <td>Kipindimbi</td>\n",
              "      <td>Lindi</td>\n",
              "      <td>80</td>\n",
              "      <td>43</td>\n",
              "      <td>Liwale</td>\n",
              "      <td>Mkutano</td>\n",
              "      <td>250</td>\n",
              "      <td>NaN</td>\n",
              "      <td>GeoData Consultants Ltd</td>\n",
              "      <td>VWC</td>\n",
              "      <td>NaN</td>\n",
              "      <td>True</td>\n",
              "      <td>1987</td>\n",
              "      <td>other</td>\n",
              "      <td>other</td>\n",
              "      <td>other</td>\n",
              "      <td>vwc</td>\n",
              "      <td>user-group</td>\n",
              "      <td>unknown</td>\n",
              "      <td>unknown</td>\n",
              "      <td>soft</td>\n",
              "      <td>good</td>\n",
              "      <td>dry</td>\n",
              "      <td>shallow well</td>\n",
              "      <td>shallow well</td>\n",
              "      <td>groundwater</td>\n",
              "      <td>other</td>\n",
              "      <td>other</td>\n",
              "    </tr>\n",
              "    <tr>\n",
              "      <th>4</th>\n",
              "      <td>49871</td>\n",
              "      <td>500.0</td>\n",
              "      <td>2013-03-27</td>\n",
              "      <td>Bruder</td>\n",
              "      <td>1260</td>\n",
              "      <td>BRUDER</td>\n",
              "      <td>35.006123</td>\n",
              "      <td>-10.950412</td>\n",
              "      <td>Kwa Mzee Turuka</td>\n",
              "      <td>0</td>\n",
              "      <td>Ruvuma / Southern Coast</td>\n",
              "      <td>Losonga</td>\n",
              "      <td>Ruvuma</td>\n",
              "      <td>10</td>\n",
              "      <td>3</td>\n",
              "      <td>Mbinga</td>\n",
              "      <td>Mbinga Urban</td>\n",
              "      <td>60</td>\n",
              "      <td>NaN</td>\n",
              "      <td>GeoData Consultants Ltd</td>\n",
              "      <td>Water Board</td>\n",
              "      <td>BRUDER</td>\n",
              "      <td>True</td>\n",
              "      <td>2000</td>\n",
              "      <td>gravity</td>\n",
              "      <td>gravity</td>\n",
              "      <td>gravity</td>\n",
              "      <td>water board</td>\n",
              "      <td>user-group</td>\n",
              "      <td>pay monthly</td>\n",
              "      <td>monthly</td>\n",
              "      <td>soft</td>\n",
              "      <td>good</td>\n",
              "      <td>enough</td>\n",
              "      <td>spring</td>\n",
              "      <td>spring</td>\n",
              "      <td>groundwater</td>\n",
              "      <td>communal standpipe</td>\n",
              "      <td>communal standpipe</td>\n",
              "    </tr>\n",
              "  </tbody>\n",
              "</table>\n",
              "</div>"
            ],
            "text/plain": [
              "      id  amount_tsh  ...     waterpoint_type waterpoint_type_group\n",
              "0  50785         0.0  ...               other                 other\n",
              "1  51630         0.0  ...  communal standpipe    communal standpipe\n",
              "2  17168         0.0  ...               other                 other\n",
              "3  45559         0.0  ...               other                 other\n",
              "4  49871       500.0  ...  communal standpipe    communal standpipe\n",
              "\n",
              "[5 rows x 39 columns]"
            ]
          },
          "metadata": {
            "tags": []
          },
          "execution_count": 8
        }
      ]
    },
    {
      "cell_type": "code",
      "metadata": {
        "id": "KVsOreY374Xo",
        "colab_type": "code",
        "colab": {
          "base_uri": "https://localhost:8080/",
          "height": 202
        },
        "outputId": "2b35a016-17f6-44ab-cb97-c351502d5cfe"
      },
      "source": [
        "test = test[['id']]\n",
        "test.head()"
      ],
      "execution_count": 18,
      "outputs": [
        {
          "output_type": "execute_result",
          "data": {
            "text/html": [
              "<div>\n",
              "<style scoped>\n",
              "    .dataframe tbody tr th:only-of-type {\n",
              "        vertical-align: middle;\n",
              "    }\n",
              "\n",
              "    .dataframe tbody tr th {\n",
              "        vertical-align: top;\n",
              "    }\n",
              "\n",
              "    .dataframe thead th {\n",
              "        text-align: right;\n",
              "    }\n",
              "</style>\n",
              "<table border=\"1\" class=\"dataframe\">\n",
              "  <thead>\n",
              "    <tr style=\"text-align: right;\">\n",
              "      <th></th>\n",
              "      <th>id</th>\n",
              "    </tr>\n",
              "  </thead>\n",
              "  <tbody>\n",
              "    <tr>\n",
              "      <th>0</th>\n",
              "      <td>50785</td>\n",
              "    </tr>\n",
              "    <tr>\n",
              "      <th>1</th>\n",
              "      <td>51630</td>\n",
              "    </tr>\n",
              "    <tr>\n",
              "      <th>2</th>\n",
              "      <td>17168</td>\n",
              "    </tr>\n",
              "    <tr>\n",
              "      <th>3</th>\n",
              "      <td>45559</td>\n",
              "    </tr>\n",
              "    <tr>\n",
              "      <th>4</th>\n",
              "      <td>49871</td>\n",
              "    </tr>\n",
              "  </tbody>\n",
              "</table>\n",
              "</div>"
            ],
            "text/plain": [
              "      id\n",
              "0  50785\n",
              "1  51630\n",
              "2  17168\n",
              "3  45559\n",
              "4  49871"
            ]
          },
          "metadata": {
            "tags": []
          },
          "execution_count": 18
        }
      ]
    },
    {
      "cell_type": "code",
      "metadata": {
        "id": "fy98gAx36ACt",
        "colab_type": "code",
        "colab": {}
      },
      "source": [
        "submission = test.copy()\n",
        "submission['status_group'] = y_pred\n",
        "submission.to_csv('Kag_water_Daanish_Rasheed3.csv', index = False)"
      ],
      "execution_count": 0,
      "outputs": []
    },
    {
      "cell_type": "code",
      "metadata": {
        "id": "41S3OlwA6msu",
        "colab_type": "code",
        "colab": {}
      },
      "source": [
        "from google.colab import files\n",
        "files.download('Kag_water_Daanish_Rasheed3.csv')"
      ],
      "execution_count": 0,
      "outputs": []
    }
  ]
}